{
 "cells": [
  {
   "cell_type": "markdown",
   "metadata": {},
   "source": [
    "# Introduction to AI - Part1 - Question 2"
   ]
  },
  {
   "cell_type": "code",
   "execution_count": 1,
   "metadata": {},
   "outputs": [],
   "source": [
    "#Impoting important libraries\n",
    "import numpy as np\n",
    "import pandas as pd\n",
    "import matplotlib.pyplot as plt\n",
    "import seaborn as sns\n",
    "from treelib import Node, Tree\n",
    "import treelib\n",
    "import random\n",
    "\n",
    "%matplotlib inline"
   ]
  },
  {
   "cell_type": "code",
   "execution_count": 2,
   "metadata": {},
   "outputs": [],
   "source": [
    "data = pd.read_csv('coursework2.csv')"
   ]
  },
  {
   "cell_type": "code",
   "execution_count": 3,
   "metadata": {},
   "outputs": [
    {
     "data": {
      "text/html": [
       "<div>\n",
       "<style scoped>\n",
       "    .dataframe tbody tr th:only-of-type {\n",
       "        vertical-align: middle;\n",
       "    }\n",
       "\n",
       "    .dataframe tbody tr th {\n",
       "        vertical-align: top;\n",
       "    }\n",
       "\n",
       "    .dataframe thead th {\n",
       "        text-align: right;\n",
       "    }\n",
       "</style>\n",
       "<table border=\"1\" class=\"dataframe\">\n",
       "  <thead>\n",
       "    <tr style=\"text-align: right;\">\n",
       "      <th></th>\n",
       "      <th>instant</th>\n",
       "      <th>dteday</th>\n",
       "      <th>season</th>\n",
       "      <th>yr</th>\n",
       "      <th>mnth</th>\n",
       "      <th>holiday</th>\n",
       "      <th>weekday</th>\n",
       "      <th>workingday</th>\n",
       "      <th>weathersit</th>\n",
       "      <th>temp</th>\n",
       "      <th>atemp</th>\n",
       "      <th>hum</th>\n",
       "      <th>windspeed</th>\n",
       "      <th>casual</th>\n",
       "      <th>registered</th>\n",
       "      <th>count</th>\n",
       "    </tr>\n",
       "  </thead>\n",
       "  <tbody>\n",
       "    <tr>\n",
       "      <th>0</th>\n",
       "      <td>1</td>\n",
       "      <td>01/01/2011</td>\n",
       "      <td>1</td>\n",
       "      <td>0</td>\n",
       "      <td>1</td>\n",
       "      <td>0</td>\n",
       "      <td>6</td>\n",
       "      <td>0</td>\n",
       "      <td>2</td>\n",
       "      <td>14.11</td>\n",
       "      <td>18.18</td>\n",
       "      <td>0.81</td>\n",
       "      <td>0.16</td>\n",
       "      <td>331</td>\n",
       "      <td>654</td>\n",
       "      <td>985</td>\n",
       "    </tr>\n",
       "    <tr>\n",
       "      <th>1</th>\n",
       "      <td>2</td>\n",
       "      <td>02/01/2011</td>\n",
       "      <td>1</td>\n",
       "      <td>0</td>\n",
       "      <td>1</td>\n",
       "      <td>0</td>\n",
       "      <td>0</td>\n",
       "      <td>0</td>\n",
       "      <td>2</td>\n",
       "      <td>14.90</td>\n",
       "      <td>17.69</td>\n",
       "      <td>0.70</td>\n",
       "      <td>0.25</td>\n",
       "      <td>131</td>\n",
       "      <td>670</td>\n",
       "      <td>801</td>\n",
       "    </tr>\n",
       "    <tr>\n",
       "      <th>2</th>\n",
       "      <td>3</td>\n",
       "      <td>03/01/2011</td>\n",
       "      <td>1</td>\n",
       "      <td>0</td>\n",
       "      <td>1</td>\n",
       "      <td>0</td>\n",
       "      <td>1</td>\n",
       "      <td>1</td>\n",
       "      <td>1</td>\n",
       "      <td>8.05</td>\n",
       "      <td>9.47</td>\n",
       "      <td>0.44</td>\n",
       "      <td>0.25</td>\n",
       "      <td>120</td>\n",
       "      <td>1229</td>\n",
       "      <td>1349</td>\n",
       "    </tr>\n",
       "    <tr>\n",
       "      <th>3</th>\n",
       "      <td>4</td>\n",
       "      <td>04/01/2011</td>\n",
       "      <td>1</td>\n",
       "      <td>0</td>\n",
       "      <td>1</td>\n",
       "      <td>0</td>\n",
       "      <td>2</td>\n",
       "      <td>1</td>\n",
       "      <td>1</td>\n",
       "      <td>8.20</td>\n",
       "      <td>10.61</td>\n",
       "      <td>0.59</td>\n",
       "      <td>0.16</td>\n",
       "      <td>108</td>\n",
       "      <td>1454</td>\n",
       "      <td>1562</td>\n",
       "    </tr>\n",
       "    <tr>\n",
       "      <th>4</th>\n",
       "      <td>5</td>\n",
       "      <td>05/01/2011</td>\n",
       "      <td>1</td>\n",
       "      <td>0</td>\n",
       "      <td>1</td>\n",
       "      <td>0</td>\n",
       "      <td>3</td>\n",
       "      <td>1</td>\n",
       "      <td>1</td>\n",
       "      <td>9.31</td>\n",
       "      <td>11.46</td>\n",
       "      <td>0.44</td>\n",
       "      <td>0.19</td>\n",
       "      <td>82</td>\n",
       "      <td>1518</td>\n",
       "      <td>1600</td>\n",
       "    </tr>\n",
       "    <tr>\n",
       "      <th>...</th>\n",
       "      <td>...</td>\n",
       "      <td>...</td>\n",
       "      <td>...</td>\n",
       "      <td>...</td>\n",
       "      <td>...</td>\n",
       "      <td>...</td>\n",
       "      <td>...</td>\n",
       "      <td>...</td>\n",
       "      <td>...</td>\n",
       "      <td>...</td>\n",
       "      <td>...</td>\n",
       "      <td>...</td>\n",
       "      <td>...</td>\n",
       "      <td>...</td>\n",
       "      <td>...</td>\n",
       "      <td>...</td>\n",
       "    </tr>\n",
       "    <tr>\n",
       "      <th>726</th>\n",
       "      <td>727</td>\n",
       "      <td>27/12/2012</td>\n",
       "      <td>1</td>\n",
       "      <td>1</td>\n",
       "      <td>12</td>\n",
       "      <td>0</td>\n",
       "      <td>4</td>\n",
       "      <td>1</td>\n",
       "      <td>2</td>\n",
       "      <td>10.42</td>\n",
       "      <td>11.33</td>\n",
       "      <td>0.65</td>\n",
       "      <td>0.35</td>\n",
       "      <td>247</td>\n",
       "      <td>1867</td>\n",
       "      <td>2114</td>\n",
       "    </tr>\n",
       "    <tr>\n",
       "      <th>727</th>\n",
       "      <td>728</td>\n",
       "      <td>28/12/2012</td>\n",
       "      <td>1</td>\n",
       "      <td>1</td>\n",
       "      <td>12</td>\n",
       "      <td>0</td>\n",
       "      <td>5</td>\n",
       "      <td>1</td>\n",
       "      <td>2</td>\n",
       "      <td>10.39</td>\n",
       "      <td>12.75</td>\n",
       "      <td>0.59</td>\n",
       "      <td>0.16</td>\n",
       "      <td>644</td>\n",
       "      <td>2451</td>\n",
       "      <td>3095</td>\n",
       "    </tr>\n",
       "    <tr>\n",
       "      <th>728</th>\n",
       "      <td>729</td>\n",
       "      <td>29/12/2012</td>\n",
       "      <td>1</td>\n",
       "      <td>1</td>\n",
       "      <td>12</td>\n",
       "      <td>0</td>\n",
       "      <td>6</td>\n",
       "      <td>0</td>\n",
       "      <td>2</td>\n",
       "      <td>10.39</td>\n",
       "      <td>12.12</td>\n",
       "      <td>0.75</td>\n",
       "      <td>0.12</td>\n",
       "      <td>159</td>\n",
       "      <td>1182</td>\n",
       "      <td>1341</td>\n",
       "    </tr>\n",
       "    <tr>\n",
       "      <th>729</th>\n",
       "      <td>730</td>\n",
       "      <td>30/12/2012</td>\n",
       "      <td>1</td>\n",
       "      <td>1</td>\n",
       "      <td>12</td>\n",
       "      <td>0</td>\n",
       "      <td>0</td>\n",
       "      <td>0</td>\n",
       "      <td>1</td>\n",
       "      <td>10.49</td>\n",
       "      <td>11.58</td>\n",
       "      <td>0.48</td>\n",
       "      <td>0.35</td>\n",
       "      <td>364</td>\n",
       "      <td>1432</td>\n",
       "      <td>1796</td>\n",
       "    </tr>\n",
       "    <tr>\n",
       "      <th>730</th>\n",
       "      <td>731</td>\n",
       "      <td>31/12/2012</td>\n",
       "      <td>1</td>\n",
       "      <td>1</td>\n",
       "      <td>12</td>\n",
       "      <td>0</td>\n",
       "      <td>1</td>\n",
       "      <td>1</td>\n",
       "      <td>2</td>\n",
       "      <td>8.85</td>\n",
       "      <td>11.17</td>\n",
       "      <td>0.58</td>\n",
       "      <td>0.15</td>\n",
       "      <td>439</td>\n",
       "      <td>2290</td>\n",
       "      <td>2729</td>\n",
       "    </tr>\n",
       "  </tbody>\n",
       "</table>\n",
       "<p>731 rows × 16 columns</p>\n",
       "</div>"
      ],
      "text/plain": [
       "     instant      dteday  season  yr  mnth  holiday  weekday  workingday  \\\n",
       "0          1  01/01/2011       1   0     1        0        6           0   \n",
       "1          2  02/01/2011       1   0     1        0        0           0   \n",
       "2          3  03/01/2011       1   0     1        0        1           1   \n",
       "3          4  04/01/2011       1   0     1        0        2           1   \n",
       "4          5  05/01/2011       1   0     1        0        3           1   \n",
       "..       ...         ...     ...  ..   ...      ...      ...         ...   \n",
       "726      727  27/12/2012       1   1    12        0        4           1   \n",
       "727      728  28/12/2012       1   1    12        0        5           1   \n",
       "728      729  29/12/2012       1   1    12        0        6           0   \n",
       "729      730  30/12/2012       1   1    12        0        0           0   \n",
       "730      731  31/12/2012       1   1    12        0        1           1   \n",
       "\n",
       "     weathersit   temp  atemp   hum  windspeed  casual  registered  count  \n",
       "0             2  14.11  18.18  0.81       0.16     331         654    985  \n",
       "1             2  14.90  17.69  0.70       0.25     131         670    801  \n",
       "2             1   8.05   9.47  0.44       0.25     120        1229   1349  \n",
       "3             1   8.20  10.61  0.59       0.16     108        1454   1562  \n",
       "4             1   9.31  11.46  0.44       0.19      82        1518   1600  \n",
       "..          ...    ...    ...   ...        ...     ...         ...    ...  \n",
       "726           2  10.42  11.33  0.65       0.35     247        1867   2114  \n",
       "727           2  10.39  12.75  0.59       0.16     644        2451   3095  \n",
       "728           2  10.39  12.12  0.75       0.12     159        1182   1341  \n",
       "729           1  10.49  11.58  0.48       0.35     364        1432   1796  \n",
       "730           2   8.85  11.17  0.58       0.15     439        2290   2729  \n",
       "\n",
       "[731 rows x 16 columns]"
      ]
     },
     "execution_count": 3,
     "metadata": {},
     "output_type": "execute_result"
    }
   ],
   "source": [
    "data"
   ]
  },
  {
   "cell_type": "code",
   "execution_count": 4,
   "metadata": {},
   "outputs": [
    {
     "data": {
      "text/plain": [
       "3    188\n",
       "2    184\n",
       "1    181\n",
       "4    178\n",
       "Name: season, dtype: int64"
      ]
     },
     "execution_count": 4,
     "metadata": {},
     "output_type": "execute_result"
    }
   ],
   "source": [
    "data['season'].value_counts()"
   ]
  },
  {
   "cell_type": "code",
   "execution_count": 5,
   "metadata": {},
   "outputs": [
    {
     "data": {
      "text/plain": [
       "1    500\n",
       "0    231\n",
       "Name: workingday, dtype: int64"
      ]
     },
     "execution_count": 5,
     "metadata": {},
     "output_type": "execute_result"
    }
   ],
   "source": [
    "data['workingday'].value_counts()"
   ]
  },
  {
   "cell_type": "code",
   "execution_count": 6,
   "metadata": {},
   "outputs": [
    {
     "data": {
      "text/plain": [
       "1    463\n",
       "2    247\n",
       "3     21\n",
       "Name: weathersit, dtype: int64"
      ]
     },
     "execution_count": 6,
     "metadata": {},
     "output_type": "execute_result"
    }
   ],
   "source": [
    "data['weathersit'].value_counts()"
   ]
  },
  {
   "cell_type": "code",
   "execution_count": 7,
   "metadata": {},
   "outputs": [],
   "source": [
    "data1 = pd.DataFrame(data=data[['season', 'workingday', 'weathersit', 'count']])"
   ]
  },
  {
   "cell_type": "code",
   "execution_count": 8,
   "metadata": {},
   "outputs": [],
   "source": [
    "from matplotlib.ticker import StrMethodFormatter"
   ]
  },
  {
   "cell_type": "code",
   "execution_count": 9,
   "metadata": {},
   "outputs": [
    {
     "name": "stderr",
     "output_type": "stream",
     "text": [
      "/Library/Frameworks/Python.framework/Versions/3.7/lib/python3.7/site-packages/matplotlib/cbook/__init__.py:424: MatplotlibDeprecationWarning: \n",
      "Passing one of 'on', 'true', 'off', 'false' as a boolean is deprecated; use an actual boolean (True/False) instead.\n",
      "  warn_deprecated(\"2.2\", \"Passing one of 'on', 'true', 'off', 'false' as a \"\n"
     ]
    },
    {
     "data": {
      "text/plain": [
       "<Figure size 1080x720 with 0 Axes>"
      ]
     },
     "metadata": {},
     "output_type": "display_data"
    },
    {
     "data": {
      "image/png": "[encoded data removed]",
      "text/plain": [
       "<Figure size 1080x720 with 1 Axes>"
      ]
     },
     "metadata": {
      "needs_background": "light"
     },
     "output_type": "display_data"
    }
   ],
   "source": [
    "plt.figure(figsize=(15,10))\n",
    "ax = data1.hist(column='count', bins=50, figsize=(15,10), grid=False, zorder=2, rwidth=0.9 )\n",
    "\n",
    "ax = ax[0]\n",
    "for x in ax:\n",
    "\n",
    "    # Despine\n",
    "    x.spines['right'].set_visible(False)\n",
    "    x.spines['top'].set_visible(False)\n",
    "    x.spines['left'].set_visible(False)\n",
    "\n",
    "    # Switch off ticks\n",
    "    x.tick_params(axis=\"both\", which=\"both\", bottom=\"off\", top=\"off\", labelbottom=\"on\", left=\"off\", right=\"off\", labelleft=\"on\")\n",
    "\n",
    "    # Draw horizontal axis lines\n",
    "    vals = x.get_yticks()\n",
    "    for tick in vals:\n",
    "        x.axhline(y=tick, linestyle='dashed', alpha=0.4, color='#eeeeee', zorder=1)\n",
    "\n",
    "    # Remove title\n",
    "    x.set_title(\"\")\n",
    "\n",
    "    # Set x-axis label\n",
    "    x.set_xlabel(\"Count Value\", labelpad=20, weight='bold', size=12)\n",
    "\n",
    "    # Set y-axis label\n",
    "    x.set_ylabel(\"Frequency\", labelpad=20, weight='bold', size=12)\n",
    "\n",
    "    # Format y-axis label\n",
    "    x.yaxis.set_major_formatter(StrMethodFormatter('{x:,g}'))"
   ]
  },
  {
   "cell_type": "code",
   "execution_count": 10,
   "metadata": {},
   "outputs": [
    {
     "data": {
      "text/plain": [
       "count     731.000000\n",
       "mean     4504.348837\n",
       "std      1937.211452\n",
       "min        22.000000\n",
       "25%      3152.000000\n",
       "50%      4548.000000\n",
       "75%      5956.000000\n",
       "max      8714.000000\n",
       "Name: count, dtype: float64"
      ]
     },
     "execution_count": 10,
     "metadata": {},
     "output_type": "execute_result"
    }
   ],
   "source": [
    "data1['count'].describe()"
   ]
  },
  {
   "cell_type": "code",
   "execution_count": 11,
   "metadata": {},
   "outputs": [],
   "source": [
    "use = []\n",
    "\n",
    "for i in (data1['count']):\n",
    "    if (i <= 3152):\n",
    "        use.append('Low')\n",
    "        \n",
    "    elif (i > 3152 and i <= 5956):\n",
    "        use.append('Medium') \n",
    "        \n",
    "    elif (i > 5956):\n",
    "        use.append('High') "
   ]
  },
  {
   "cell_type": "code",
   "execution_count": 12,
   "metadata": {},
   "outputs": [],
   "source": [
    "data1['usage'] = use"
   ]
  },
  {
   "cell_type": "code",
   "execution_count": 13,
   "metadata": {},
   "outputs": [
    {
     "data": {
      "text/plain": [
       "Medium    365\n",
       "Low       183\n",
       "High      183\n",
       "Name: usage, dtype: int64"
      ]
     },
     "execution_count": 13,
     "metadata": {},
     "output_type": "execute_result"
    }
   ],
   "source": [
    "data1['usage'].value_counts()"
   ]
  },
  {
   "cell_type": "code",
   "execution_count": 14,
   "metadata": {},
   "outputs": [],
   "source": [
    "#Dropping column count as it has no use further\n",
    "data1.drop(['count'], axis=1, inplace=True)"
   ]
  },
  {
   "cell_type": "code",
   "execution_count": 15,
   "metadata": {},
   "outputs": [],
   "source": [
    "#Dividing dependent and independent variables of the dataset\n",
    "X = data1.iloc[: , :-1]\n",
    "Y = data1.iloc[: , -1]"
   ]
  },
  {
   "cell_type": "code",
   "execution_count": 16,
   "metadata": {},
   "outputs": [
    {
     "name": "stdout",
     "output_type": "stream",
     "text": [
      "Index(['season', 'workingday', 'weathersit'], dtype='object') \n",
      " usage\n"
     ]
    }
   ],
   "source": [
    "print(X.columns, \"\\n\" ,Y.name)"
   ]
  },
  {
   "cell_type": "markdown",
   "metadata": {},
   "source": [
    "# Function for Entropy"
   ]
  },
  {
   "cell_type": "code",
   "execution_count": 17,
   "metadata": {},
   "outputs": [],
   "source": [
    "import math\n",
    "from collections import Counter"
   ]
  },
  {
   "cell_type": "code",
   "execution_count": 18,
   "metadata": {},
   "outputs": [],
   "source": [
    "def entropy(column):\n",
    "    \n",
    "    #Count of each unique value in a dictionary\n",
    "    count = Counter(column)\n",
    "      \n",
    "    probabitity = []\n",
    "    \n",
    "    for i in count.values():\n",
    "        \n",
    "        prob = i / len(column)\n",
    "        probabitity.append(prob)\n",
    "    \n",
    "    entropy = 0\n",
    "    \n",
    "    for val in probabitity:\n",
    "        \n",
    "        if val > 0:\n",
    "            entropy += val * math.log(val, 2)\n",
    "    \n",
    "    return -entropy"
   ]
  },
  {
   "cell_type": "code",
   "execution_count": 19,
   "metadata": {},
   "outputs": [
    {
     "name": "stdout",
     "output_type": "stream",
     "text": [
      "Overall Entropy for column Usage is : 1.5006826446021595\n"
     ]
    }
   ],
   "source": [
    "print(\"Overall Entropy for column Usage is : {}\".format(entropy(Y.to_list())))"
   ]
  },
  {
   "cell_type": "markdown",
   "metadata": {},
   "source": [
    "# Function for Information Gain"
   ]
  },
  {
   "cell_type": "code",
   "execution_count": 20,
   "metadata": {},
   "outputs": [],
   "source": [
    "def information_gain(attribute, target):\n",
    "    \n",
    "    #Creating a new dataframe to store the attribute and target values\n",
    "    categories = pd.DataFrame()\n",
    "    categories['attribute'] = attribute\n",
    "    categories['target'] = target\n",
    "    \n",
    "    #Unique values in the column \n",
    "    unique = categories['attribute'].unique()\n",
    "    \n",
    "    parts = []\n",
    "    \n",
    "    for i in unique:\n",
    "        \n",
    "        parts.append((categories['target'].loc[categories['attribute']==i]).to_list())\n",
    "        \n",
    "    remainder = 0\n",
    "\n",
    "    for i in parts:\n",
    "        \n",
    "        length = len(i)/len(categories)\n",
    "        \n",
    "        #Remainder for the attribute with the help of its entropy\n",
    "        remainder += length*entropy(i)\n",
    "    \n",
    "    #Information Gain for the attribute\n",
    "    gain = entropy(target) - remainder\n",
    "        \n",
    "    return gain"
   ]
  },
  {
   "cell_type": "code",
   "execution_count": 37,
   "metadata": {},
   "outputs": [
    {
     "name": "stdout",
     "output_type": "stream",
     "text": [
      "Maximum Information Gain is for attribute season : 0.272392158566078\n"
     ]
    }
   ],
   "source": [
    "#Attribute with maximum information gain\n",
    "ign = []\n",
    "cols = X.columns.to_list()\n",
    "for i in cols:\n",
    "    ign.append(information_gain(X[i], Y))\n",
    "\n",
    "print(\"Maximum Information Gain is for attribute {} : {}\".format(cols[ign.index(max(ign))], max(ign)))"
   ]
  },
  {
   "cell_type": "markdown",
   "metadata": {},
   "source": [
    "# Building a Decision Tree"
   ]
  },
  {
   "cell_type": "code",
   "execution_count": 39,
   "metadata": {},
   "outputs": [],
   "source": [
    "def plurality(column):\n",
    "    \n",
    "    #Find the unique values in the dataframe column\n",
    "    unique = column.unique()\n",
    "    \n",
    "    #Frequency of each unique element in the dataframe column\n",
    "    count = Counter(column)\n",
    "    \n",
    "    if len(set(count)) == 1: #If all the unique values's frequencies are equal, return a random unique value.\n",
    "        return random.choice(unique)\n",
    "        \n",
    "    else: #If not, return the key with maximum frequency\n",
    "        return max(count)"
   ]
  },
  {
   "cell_type": "code",
   "execution_count": 48,
   "metadata": {},
   "outputs": [],
   "source": [
    "def decision_tree(df, tree, parent_id):\n",
    "    attribute = df.iloc[: , : -1]\n",
    "    target = df.iloc[: , -1]\n",
    "    \n",
    "    gains = []\n",
    "    \n",
    "    columns = attribute.columns\n",
    "    \n",
    "    for i in columns:\n",
    "        gains.append(information_gain(attribute[i], target))\n",
    "    \n",
    "    #Calculating the maximum gain\n",
    "    max_gain = max(gains)\n",
    "    \n",
    "    #Maximum gain column\n",
    "    col_max_gain = columns[gains.index(max_gain)]\n",
    "    \n",
    "    #Unique values in that column\n",
    "    unique = attribute[col_max_gain].unique()\n",
    "    \n",
    "    #Plurality check\n",
    "    if (information_gain(attribute[col_max_gain], target) == 0):\n",
    "        plu = plurality(target)\n",
    "        tree.create_node(plu, parent = parent_id)\n",
    "        return\n",
    "    \n",
    "    else:\n",
    "        \n",
    "        #loop for every unique value of the column \n",
    "        for i in unique:\n",
    "            #print(i)\n",
    "            new_node = tree.create_node(f\"{col_max_gain} == {i}\", parent = parent_id)    \n",
    "            new_df1 = df[attribute[col_max_gain] == i]\n",
    "\n",
    "            #Recursion\n",
    "            decision_tree(new_df1, tree, new_node.identifier) "
   ]
  },
  {
   "cell_type": "code",
   "execution_count": null,
   "metadata": {},
   "outputs": [],
   "source": [
    "#Creating the root tree\n",
    "tree_initial = Tree()\n",
    "root = tree_initial.create_node(tag=\"Root\", identifier=\"ROOT\", parent=None)"
   ]
  },
  {
   "cell_type": "code",
   "execution_count": 49,
   "metadata": {},
   "outputs": [],
   "source": [
    "decision_tree(data1, tree_initial, root.identifier)"
   ]
  },
  {
   "cell_type": "code",
   "execution_count": 51,
   "metadata": {},
   "outputs": [
    {
     "name": "stdout",
     "output_type": "stream",
     "text": [
      "Root\n",
      "├── season == 1\n",
      "│   ├── weathersit == 1\n",
      "│   │   ├── workingday == 0\n",
      "│   │   │   └── Medium\n",
      "│   │   └── workingday == 1\n",
      "│   │       └── Medium\n",
      "│   ├── weathersit == 2\n",
      "│   │   ├── workingday == 0\n",
      "│   │   │   └── Medium\n",
      "│   │   └── workingday == 1\n",
      "│   │       └── Medium\n",
      "│   └── weathersit == 3\n",
      "│       └── Low\n",
      "├── season == 2\n",
      "│   ├── weathersit == 1\n",
      "│   │   ├── workingday == 0\n",
      "│   │   │   └── Medium\n",
      "│   │   └── workingday == 1\n",
      "│   │       └── Medium\n",
      "│   ├── weathersit == 2\n",
      "│   │   ├── workingday == 0\n",
      "│   │   │   └── Medium\n",
      "│   │   └── workingday == 1\n",
      "│   │       └── Medium\n",
      "│   └── weathersit == 3\n",
      "│       └── Low\n",
      "├── season == 3\n",
      "│   ├── weathersit == 1\n",
      "│   │   ├── workingday == 0\n",
      "│   │   │   └── Medium\n",
      "│   │   └── workingday == 1\n",
      "│   │       └── Medium\n",
      "│   ├── weathersit == 2\n",
      "│   │   ├── workingday == 0\n",
      "│   │   │   └── Medium\n",
      "│   │   └── workingday == 1\n",
      "│   │       └── Medium\n",
      "│   └── weathersit == 3\n",
      "│       ├── workingday == 0\n",
      "│       │   └── Medium\n",
      "│       └── workingday == 1\n",
      "│           └── Low\n",
      "└── season == 4\n",
      "    ├── weathersit == 1\n",
      "    │   ├── workingday == 0\n",
      "    │   │   └── Medium\n",
      "    │   └── workingday == 1\n",
      "    │       └── Medium\n",
      "    ├── weathersit == 2\n",
      "    │   ├── workingday == 0\n",
      "    │   │   └── Medium\n",
      "    │   └── workingday == 1\n",
      "    │       └── Medium\n",
      "    └── weathersit == 3\n",
      "        ├── workingday == 0\n",
      "        │   └── Low\n",
      "        └── workingday == 1\n",
      "            └── Medium\n",
      "\n"
     ]
    }
   ],
   "source": [
    "tree_initial.show()"
   ]
  },
  {
   "cell_type": "markdown",
   "metadata": {},
   "source": [
    "# Decision Tree with new attribute Tempbins"
   ]
  },
  {
   "cell_type": "markdown",
   "metadata": {},
   "source": [
    "Low    : if temp < 12\n",
    "\n",
    "Medium : if 12 <= temp < 24\n",
    "\n",
    "High   : if temp >= 24"
   ]
  },
  {
   "cell_type": "code",
   "execution_count": 69,
   "metadata": {},
   "outputs": [],
   "source": [
    "data2 = data.loc[ : , ['season', 'workingday', 'weathersit', 'temp']]"
   ]
  },
  {
   "cell_type": "code",
   "execution_count": 70,
   "metadata": {},
   "outputs": [],
   "source": [
    "#Creating a new attribute \"TEMPBINS\""
   ]
  },
  {
   "cell_type": "code",
   "execution_count": 71,
   "metadata": {},
   "outputs": [],
   "source": [
    "bins = []\n",
    "\n",
    "for i in (data2['temp']):\n",
    "    if (i < 12):\n",
    "        bins.append('Low')\n",
    "        \n",
    "    elif (i >= 12 and i < 24):\n",
    "        bins.append('Medium')\n",
    "        \n",
    "    elif (i > 24):\n",
    "        bins.append('High') "
   ]
  },
  {
   "cell_type": "code",
   "execution_count": 72,
   "metadata": {},
   "outputs": [],
   "source": [
    "data2['tempbins'] = bins\n",
    "data2.drop('temp', axis=1, inplace=True)\n",
    "data2['usage'] = data1['usage']"
   ]
  },
  {
   "cell_type": "code",
   "execution_count": 73,
   "metadata": {},
   "outputs": [
    {
     "data": {
      "text/html": [
       "<div>\n",
       "<style scoped>\n",
       "    .dataframe tbody tr th:only-of-type {\n",
       "        vertical-align: middle;\n",
       "    }\n",
       "\n",
       "    .dataframe tbody tr th {\n",
       "        vertical-align: top;\n",
       "    }\n",
       "\n",
       "    .dataframe thead th {\n",
       "        text-align: right;\n",
       "    }\n",
       "</style>\n",
       "<table border=\"1\" class=\"dataframe\">\n",
       "  <thead>\n",
       "    <tr style=\"text-align: right;\">\n",
       "      <th></th>\n",
       "      <th>season</th>\n",
       "      <th>workingday</th>\n",
       "      <th>weathersit</th>\n",
       "      <th>tempbins</th>\n",
       "      <th>usage</th>\n",
       "    </tr>\n",
       "  </thead>\n",
       "  <tbody>\n",
       "    <tr>\n",
       "      <th>0</th>\n",
       "      <td>1</td>\n",
       "      <td>0</td>\n",
       "      <td>2</td>\n",
       "      <td>Medium</td>\n",
       "      <td>Low</td>\n",
       "    </tr>\n",
       "    <tr>\n",
       "      <th>1</th>\n",
       "      <td>1</td>\n",
       "      <td>0</td>\n",
       "      <td>2</td>\n",
       "      <td>Medium</td>\n",
       "      <td>Low</td>\n",
       "    </tr>\n",
       "    <tr>\n",
       "      <th>2</th>\n",
       "      <td>1</td>\n",
       "      <td>1</td>\n",
       "      <td>1</td>\n",
       "      <td>Low</td>\n",
       "      <td>Low</td>\n",
       "    </tr>\n",
       "    <tr>\n",
       "      <th>3</th>\n",
       "      <td>1</td>\n",
       "      <td>1</td>\n",
       "      <td>1</td>\n",
       "      <td>Low</td>\n",
       "      <td>Low</td>\n",
       "    </tr>\n",
       "    <tr>\n",
       "      <th>4</th>\n",
       "      <td>1</td>\n",
       "      <td>1</td>\n",
       "      <td>1</td>\n",
       "      <td>Low</td>\n",
       "      <td>Low</td>\n",
       "    </tr>\n",
       "  </tbody>\n",
       "</table>\n",
       "</div>"
      ],
      "text/plain": [
       "   season  workingday  weathersit tempbins usage\n",
       "0       1           0           2   Medium   Low\n",
       "1       1           0           2   Medium   Low\n",
       "2       1           1           1      Low   Low\n",
       "3       1           1           1      Low   Low\n",
       "4       1           1           1      Low   Low"
      ]
     },
     "execution_count": 73,
     "metadata": {},
     "output_type": "execute_result"
    }
   ],
   "source": [
    "#New Dataframe\n",
    "data2.head()"
   ]
  },
  {
   "cell_type": "code",
   "execution_count": 74,
   "metadata": {},
   "outputs": [],
   "source": [
    "#New Decision Tree for new Dataframe\n",
    "\n",
    "new_tree = Tree()\n",
    "new_root = new_tree.create_node(tag=\"Root\", identifier=\"ROOT\", parent=None)"
   ]
  },
  {
   "cell_type": "code",
   "execution_count": 75,
   "metadata": {},
   "outputs": [],
   "source": [
    "decision_tree(data2, new_tree, new_root.identifier)"
   ]
  },
  {
   "cell_type": "code",
   "execution_count": 76,
   "metadata": {},
   "outputs": [
    {
     "name": "stdout",
     "output_type": "stream",
     "text": [
      "Root\n",
      "├── tempbins == High\n",
      "│   ├── weathersit == 1\n",
      "│   │   ├── season == 2\n",
      "│   │   │   ├── workingday == 0\n",
      "│   │   │   │   └── Medium\n",
      "│   │   │   └── workingday == 1\n",
      "│   │   │       └── Medium\n",
      "│   │   ├── season == 3\n",
      "│   │   │   ├── workingday == 0\n",
      "│   │   │   │   └── Medium\n",
      "│   │   │   └── workingday == 1\n",
      "│   │   │       └── Medium\n",
      "│   │   └── season == 4\n",
      "│   │       └── Medium\n",
      "│   ├── weathersit == 2\n",
      "│   │   ├── season == 2\n",
      "│   │   │   ├── workingday == 0\n",
      "│   │   │   │   └── Medium\n",
      "│   │   │   └── workingday == 1\n",
      "│   │   │       └── Medium\n",
      "│   │   ├── season == 3\n",
      "│   │   │   ├── workingday == 0\n",
      "│   │   │   │   └── Medium\n",
      "│   │   │   └── workingday == 1\n",
      "│   │   │       └── Medium\n",
      "│   │   └── season == 4\n",
      "│   │       ├── workingday == 0\n",
      "│   │       │   └── Medium\n",
      "│   │       └── workingday == 1\n",
      "│   │           └── Medium\n",
      "│   └── weathersit == 3\n",
      "│       ├── season == 3\n",
      "│       │   ├── workingday == 0\n",
      "│       │   │   └── Medium\n",
      "│       │   └── workingday == 1\n",
      "│       │       └── Low\n",
      "│       └── season == 4\n",
      "│           └── Medium\n",
      "├── tempbins == Low\n",
      "│   ├── season == 1\n",
      "│   │   ├── weathersit == 1\n",
      "│   │   │   ├── workingday == 0\n",
      "│   │   │   │   └── Medium\n",
      "│   │   │   └── workingday == 1\n",
      "│   │   │       └── Medium\n",
      "│   │   ├── weathersit == 2\n",
      "│   │   │   ├── workingday == 0\n",
      "│   │   │   │   └── Low\n",
      "│   │   │   └── workingday == 1\n",
      "│   │   │       └── Medium\n",
      "│   │   └── weathersit == 3\n",
      "│   │       └── Low\n",
      "│   ├── season == 2\n",
      "│   │   └── Low\n",
      "│   └── season == 4\n",
      "│       ├── workingday == 0\n",
      "│       │   ├── weathersit == 1\n",
      "│       │   │   └── Medium\n",
      "│       │   ├── weathersit == 2\n",
      "│       │   │   └── Low\n",
      "│       │   └── weathersit == 3\n",
      "│       │       └── Low\n",
      "│       └── workingday == 1\n",
      "│           └── Medium\n",
      "└── tempbins == Medium\n",
      "    ├── weathersit == 1\n",
      "    │   ├── season == 1\n",
      "    │   │   ├── workingday == 0\n",
      "    │   │   │   └── Medium\n",
      "    │   │   └── workingday == 1\n",
      "    │   │       └── Medium\n",
      "    │   ├── season == 2\n",
      "    │   │   ├── workingday == 0\n",
      "    │   │   │   └── Medium\n",
      "    │   │   └── workingday == 1\n",
      "    │   │       └── Medium\n",
      "    │   ├── season == 3\n",
      "    │   │   ├── workingday == 0\n",
      "    │   │   │   └── Medium\n",
      "    │   │   └── workingday == 1\n",
      "    │   │       └── High\n",
      "    │   └── season == 4\n",
      "    │       ├── workingday == 0\n",
      "    │       │   └── Medium\n",
      "    │       └── workingday == 1\n",
      "    │           └── Medium\n",
      "    ├── weathersit == 2\n",
      "    │   ├── season == 1\n",
      "    │   │   ├── workingday == 0\n",
      "    │   │   │   └── Medium\n",
      "    │   │   └── workingday == 1\n",
      "    │   │       └── Medium\n",
      "    │   ├── season == 2\n",
      "    │   │   ├── workingday == 0\n",
      "    │   │   │   └── Medium\n",
      "    │   │   └── workingday == 1\n",
      "    │   │       └── Medium\n",
      "    │   ├── season == 3\n",
      "    │   │   ├── workingday == 0\n",
      "    │   │   │   └── Medium\n",
      "    │   │   └── workingday == 1\n",
      "    │   │       └── Medium\n",
      "    │   └── season == 4\n",
      "    │       ├── workingday == 0\n",
      "    │       │   └── Medium\n",
      "    │       └── workingday == 1\n",
      "    │           └── Medium\n",
      "    └── weathersit == 3\n",
      "        └── Low\n",
      "\n"
     ]
    }
   ],
   "source": [
    "new_tree.show()"
   ]
  },
  {
   "cell_type": "code",
   "execution_count": 86,
   "metadata": {},
   "outputs": [
    {
     "name": "stdout",
     "output_type": "stream",
     "text": [
      "Maximum Information Gain is for attribute tempbins : 0.2945924028910589\n"
     ]
    }
   ],
   "source": [
    "#Attribute with maximum information gain for new dataframe\n",
    "ign1 = []\n",
    "cols1 = data2.columns.to_list()\n",
    "cols1 = cols1[:-1]\n",
    "for i in cols1:\n",
    "    ign1.append(information_gain(data2[i], data2['usage']))\n",
    "\n",
    "print(\"Maximum Information Gain is for attribute {} : {}\".format(cols1[ign1.index(max(ign1))], max(ign1)))"
   ]
  },
  {
   "cell_type": "code",
   "execution_count": null,
   "metadata": {},
   "outputs": [],
   "source": []
  }
 ],
 "metadata": {
  "kernelspec": {
   "display_name": "Python 3",
   "language": "python",
   "name": "python3"
  },
  "language_info": {
   "codemirror_mode": {
    "name": "ipython",
    "version": 3
   },
   "file_extension": ".py",
   "mimetype": "text/x-python",
   "name": "python",
   "nbconvert_exporter": "python",
   "pygments_lexer": "ipython3",
   "version": "3.7.0"
  }
 },
 "nbformat": 4,
 "nbformat_minor": 2
}
